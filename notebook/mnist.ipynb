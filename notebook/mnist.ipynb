{
 "cells": [
  {
   "cell_type": "markdown",
   "metadata": {},
   "source": [
    "# MNIST INFERENCE NOTEBOOK"
   ]
  },
  {
   "cell_type": "markdown",
   "metadata": {},
   "source": [
    "Mnist is a classic dataset composed of handwritten digits.\n",
    "The next cells will help visualize those."
   ]
  },
  {
   "cell_type": "code",
   "execution_count": 1,
   "metadata": {},
   "outputs": [
    {
     "name": "stderr",
     "output_type": "stream",
     "text": [
      "/Users/valentinbretez/miniforge3/envs/cnn_lab/lib/python3.9/site-packages/tqdm/auto.py:22: TqdmWarning: IProgress not found. Please update jupyter and ipywidgets. See https://ipywidgets.readthedocs.io/en/stable/user_install.html\n",
      "  from .autonotebook import tqdm as notebook_tqdm\n"
     ]
    }
   ],
   "source": [
    "# import all mandatory libraries\n",
    "import os\n",
    "import sys\n",
    "module_path = os.path.abspath(os.path.join('..'))\n",
    "if module_path not in sys.path:\n",
    "    sys.path.append(module_path)\n",
    "import torch \n",
    "import torchvision\n",
    "import numpy as np \n",
    "import matplotlib.pyplot as plt \n",
    "from torchvision.transforms import ToTensor\n"
   ]
  },
  {
   "cell_type": "markdown",
   "metadata": {},
   "source": [
    "## IMAGE"
   ]
  },
  {
   "cell_type": "code",
   "execution_count": 2,
   "metadata": {},
   "outputs": [
    {
     "name": "stdout",
     "output_type": "stream",
     "text": [
      "image size =  torch.Size([1, 28, 28])\n",
      "possible labels :  None\n"
     ]
    }
   ],
   "source": [
    "# load the dataset \n",
    "datas = torchvision.datasets.MNIST(\"../data/\", train=False, download=False, transform=ToTensor())\n",
    "img, _ = datas[0]\n",
    "print(\"image size = \", img.size())\n",
    "\n",
    "possible_labels = []\n",
    "for i in range(len(datas)):\n",
    "    _, label = datas[i]\n",
    "    if not label in possible_labels:\n",
    "        possible_labels.append(label)\n",
    "print(\"possible labels : \", possible_labels.sort())\n"
   ]
  },
  {
   "cell_type": "code",
   "execution_count": 3,
   "metadata": {},
   "outputs": [
    {
     "data": {
      "image/png": "[encoded data removed]",
      "text/plain": [
       "<Figure size 800x800 with 9 Axes>"
      ]
     },
     "metadata": {},
     "output_type": "display_data"
    }
   ],
   "source": [
    "figure = plt.figure(figsize=(8, 8))\n",
    "cols, rows = 3, 3\n",
    "for i in range(1, cols * rows + 1):\n",
    "    sample_idx = torch.randint(len(datas), size=(1,)).item()\n",
    "    img, label = datas[sample_idx]\n",
    "    figure.add_subplot(rows, cols, i)\n",
    "    plt.title(label)\n",
    "    plt.axis(\"off\")\n",
    "    plt.imshow(img.squeeze(), cmap=\"gray\")\n",
    "plt.show()\n",
    "\n"
   ]
  },
  {
   "cell_type": "markdown",
   "metadata": {},
   "source": [
    "## Network \n",
    "All tested networks will be displayed here "
   ]
  },
  {
   "cell_type": "markdown",
   "metadata": {},
   "source": [
    "### LeNet5\n",
    "Load the model"
   ]
  },
  {
   "cell_type": "code",
   "execution_count": 4,
   "metadata": {},
   "outputs": [],
   "source": [
    "from src.model.LeNet5 import LeNet5\n",
    "class_number = 10\n",
    "\n",
    "model = LeNet5(class_number)\n"
   ]
  },
  {
   "cell_type": "markdown",
   "metadata": {},
   "source": [
    "Load the weights of the training"
   ]
  },
  {
   "cell_type": "code",
   "execution_count": 5,
   "metadata": {},
   "outputs": [
    {
     "name": "stdout",
     "output_type": "stream",
     "text": [
      "Model's state_dict:\n",
      "encoder.0.blockCNN.0.weight \t torch.Size([6, 1, 5, 5])\n",
      "encoder.0.blockCNN.0.bias \t torch.Size([6])\n",
      "encoder.1.blockCNN.0.weight \t torch.Size([16, 6, 5, 5])\n",
      "encoder.1.blockCNN.0.bias \t torch.Size([16])\n",
      "encoder.2.weight \t torch.Size([120, 16, 5, 5])\n",
      "encoder.2.bias \t torch.Size([120])\n",
      "decoder.0.weight \t torch.Size([84, 120])\n",
      "decoder.0.bias \t torch.Size([84])\n",
      "decoder.2.weight \t torch.Size([10, 84])\n",
      "decoder.2.bias \t torch.Size([10])\n"
     ]
    }
   ],
   "source": [
    "lenet_mnist_001_path = \"../model/lenet_mnist_001\"\n",
    "model.load_state_dict(torch.load(lenet_mnist_001_path))\n",
    "\n",
    "# Print model's state_dict\n",
    "print(\"Model's state_dict:\")\n",
    "for param_tensor in model.state_dict():\n",
    "    print(param_tensor, \"\\t\", model.state_dict()[param_tensor].size())\n"
   ]
  },
  {
   "cell_type": "markdown",
   "metadata": {},
   "source": [
    "Perform inference"
   ]
  },
  {
   "cell_type": "code",
   "execution_count": 46,
   "metadata": {},
   "outputs": [
    {
     "name": "stdout",
     "output_type": "stream",
     "text": [
      "prediction logits :  tensor([[0.0610, 0.0610, 0.0610, 0.0610, 0.0610, 0.0610, 0.0610, 0.4509, 0.0610,\n",
      "         0.0610]], grad_fn=<SoftmaxBackward0>)\n",
      "prediction probabitlity :  tensor([[0.0610, 0.0610, 0.0610, 0.0610, 0.0610, 0.0610, 0.0610, 0.4509, 0.0610,\n",
      "         0.0610]], grad_fn=<SoftmaxBackward0>)\n",
      "Final prediction : tensor(7)\n"
     ]
    }
   ],
   "source": [
    "model.eval()\n",
    "img, _ = datas[0]\n",
    "img = torchvision.transforms.functional.resize(img, (32,32))\n",
    "img = torch.unsqueeze(img,0)\n",
    "logits, prob = model(img)\n",
    "print(\"prediction logits : \",prob)\n",
    "print(\"prediction probabitlity : \" ,prob)\n",
    "print(\"Final prediction :\", torch.argmax(prob))"
   ]
  },
  {
   "cell_type": "markdown",
   "metadata": {},
   "source": [
    "Visualize multiple results "
   ]
  },
  {
   "cell_type": "code",
   "execution_count": 47,
   "metadata": {},
   "outputs": [
    {
     "data": {
      "image/png": "[encoded data removed]",
      "text/plain": [
       "<Figure size 800x800 with 9 Axes>"
      ]
     },
     "metadata": {},
     "output_type": "display_data"
    }
   ],
   "source": [
    "figure = plt.figure(figsize=(8, 8))\n",
    "cols, rows = 3, 3\n",
    "for i in range(1, cols * rows + 1):\n",
    "    sample_idx = torch.randint(len(datas), size=(1,)).item()\n",
    "    img, _ = datas[sample_idx]\n",
    "    img = torchvision.transforms.functional.resize(img, (32,32))\n",
    "    final_img = torch.unsqueeze(img,0)\n",
    "    logits, prob = model(final_img)\n",
    "    figure.add_subplot(rows, cols, i)\n",
    "    plt.title(torch.argmax(prob))\n",
    "    plt.axis(\"off\")\n",
    "    plt.imshow(img.squeeze(), cmap=\"gray\")\n",
    "plt.show()"
   ]
  }
 ],
 "metadata": {
  "kernelspec": {
   "display_name": "Python 3.9.13 ('cnn_lab')",
   "language": "python",
   "name": "python3"
  },
  "language_info": {
   "codemirror_mode": {
    "name": "ipython",
    "version": 3
   },
   "file_extension": ".py",
   "mimetype": "text/x-python",
   "name": "python",
   "nbconvert_exporter": "python",
   "pygments_lexer": "ipython3",
   "version": "3.9.13"
  },
  "orig_nbformat": 4,
  "vscode": {
   "interpreter": {
    "hash": "afb6f3267c9cea6e6628c6722ed4197c3960344081c96199e3a7c3dbe3382585"
   }
  }
 },
 "nbformat": 4,
 "nbformat_minor": 2
}
